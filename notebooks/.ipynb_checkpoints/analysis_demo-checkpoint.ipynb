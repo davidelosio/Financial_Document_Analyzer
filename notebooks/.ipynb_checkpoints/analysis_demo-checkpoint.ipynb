{
 "cells": [
  {
   "cell_type": "markdown",
   "metadata": {},
   "source": [
    "# Financial Document Analyzer: Step-by-Step Demo\n",
    "\n",
    "This notebook walks you through the full workflow of the **Financial Document Analyzer**, a tool designed to extract, classify, and analyze expenses from financial documents (e.g., \"nota integrativa\"). The focus is on energy-related expenses and their impact on total service and production costs across different sectors.\n",
    "\n",
    "### Project Structure\n",
    "- **`scripts/`**: Contains modular Python scripts for data loading, HTML parsing, expense classification, and analysis.\n",
    "- **`data/`**: Holds sample or synthetic financial data.\n",
    "- **`outputs/`**: Stores generated visualizations.\n",
    "\n",
    "### Notebook Overview\n",
    "1. **Load Data**: Start with synthetic or real financial data.\n",
    "2. **Extract Tables**: Parse HTML to extract expense descriptions and values.\n",
    "3. **Classify Expenses**: Use zero-shot NLP to categorize expenses.\n",
    "4. **Analyze Energy Costs**: Calculate energy expenses and their ratios to service and production costs.\n",
    "5. **Visualize Trends**: Generate sector-based visualizations.\n",
    "\n",
    "Let’s get started!"
   ]
  },
  {
   "cell_type": "markdown",
   "metadata": {},
   "source": [
    "## Step 1: Load Data\n",
    "We begin by loading financial data into a DataFrame. For this demo, we’ll generate synthetic data on the fly. In a real-world scenario, you can replace this with your own CSV file from the `data/` directory."
   ]
  },
  {
   "cell_type": "code",
   "execution_count": null,
   "metadata": {},
   "outputs": [],
   "source": [
    "import sys\n",
    "sys.path.append('../scripts')  # Add scripts directory to path\n",
    "\n",
    "from data_loader import load_data\n",
    "\n",
    "# Load synthetic data (or specify a file path to load real data)\n",
    "df = load_data()\n",
    "\n",
    "# Display the first few rows\n",
    "print(\"Sample DataFrame:\")\n",
    "display(df.head())"
   ]
  },
  {
   "cell_type": "markdown",
   "metadata": {},
   "source": [
    "**Explanation**\n",
    "- **`load_data()`**: This function (from `scripts/data_loader.py`) generates synthetic data with columns like `Company_ID`, `Sector_Code`, `HTML` (containing expense tables), `Total_Production_Costs`, and `Service_Costs`.\n",
    "- **Output**: A pandas DataFrame with sample financial data for multiple companies. For example:\n",
    "  ```\n",
    "  Company_ID  Sector_Code  HTML         Total_Production_Costs  Service_Costs\n",
    "  Company_1   A            <table>...</table>  1000000             300000\n",
    "  Company_2   B            <table>...</table>  2000000             500000\n",
    "  ```"
   ]
  },
  {
   "cell_type": "markdown",
   "metadata": {},
   "source": [
    "## Step 2: Extract Tables from HTML\n",
    "Next, we parse the HTML content in the `HTML` column to extract expense descriptions and their corresponding values."
   ]
  },
  {
   "cell_type": "code",
   "execution_count": null,
   "metadata": {},
   "outputs": [],
   "source": [
    "from html_parser import extract_tables\n",
    "\n",
    "# Extract expenses from the HTML column\n",
    "df['Expenses'] = df['HTML'].apply(extract_tables)\n",
    "\n",
    "# Display extracted expenses for the first company\n",
    "print(\"\\nExtracted Expenses for Company_1:\")\n",
    "display(df['Expenses'].iloc[0])"
   ]
  },
  {
   "cell_type": "markdown",
   "metadata": {},
   "source": [
    "**Explanation**\n",
    "- **`extract_tables(html)`**: This function (from `scripts/html_parser.py`) uses BeautifulSoup to parse HTML `<table>` elements, extracting rows (`<tr>`) and cells (`<td>`) into a list of tuples: `(description, value)`.\n",
    "- **Output**: For each company, a list of expense items. Example:\n",
    "  ```\n",
    "  [('Electricity bill', 50000), ('Consulting fees', 20000), ('Raw materials', 150000)]\n",
    "  ```"
   ]
  },
  {
   "cell_type": "markdown",
   "metadata": {},
   "source": [
    "## Step 3: Classify Expenses Using NLP\n",
    "We use zero-shot classification to categorize each expense into predefined categories (e.g., \"Energy\", \"Services\") without requiring labeled training data."
   ]
  },
  {
   "cell_type": "code",
   "execution_count": null,
   "metadata": {},
   "outputs": [],
   "source": [
    "from expense_classifier import classify_expense\n",
    "\n",
    "# Define candidate labels for classification\n",
    "candidate_labels = [\"Energy\", \"Services\", \"Materials\", \"Other\"]\n",
    "\n",
    "# Classify each expense\n",
    "df['Classified_Expenses'] = df['Expenses'].apply(\n",
    "    lambda exps: [(classify_expense(desc, candidate_labels), value) for desc, value in exps]\n",
    ")\n",
    "\n",
    "# Display classified expenses for the first company\n",
    "print(\"\\nClassified Expenses for Company_1:\")\n",
    "display(df['Classified_Expenses'].iloc[0])"
   ]
  },
  {
   "cell_type": "markdown",
   "metadata": {},
   "source": [
    "**Explanation**\n",
    "- **`classify_expense(desc, candidate_labels)`**: This function (from `scripts/expense_classifier.py`) uses a pre-trained zero-shot classification model (e.g., from Hugging Face) to predict the most likely category for each expense description.\n",
    "- **Logic**: If the model’s confidence score exceeds 0.7, the predicted label is assigned; otherwise, the expense is marked as \"Uncategorized\".\n",
    "- **Output**: A list of tuples with classified categories and values. Example:\n",
    "  ```\n",
    "  [('Energy', 50000), ('Services', 20000), ('Materials', 150000)]\n",
    "  ```"
   ]
  },
  {
   "cell_type": "markdown",
   "metadata": {},
   "source": [
    "## Step 4: Analyze Energy-Related Expenses\n",
    "Now, we calculate the total energy costs for each company and compute their ratios to service and production costs."
   ]
  },
  {
   "cell_type": "code",
   "execution_count": null,
   "metadata": {},
   "outputs": [],
   "source": [
    "from analysis import analyze_energy_costs\n",
    "\n",
    "# Perform analysis for each company\n",
    "df['Analysis'] = df.apply(\n",
    "    lambda row: analyze_energy_costs(row['Classified_Expenses'], \n",
    "                                     row['Service_Costs'], \n",
    "                                     row['Total_Production_Costs']), \n",
    "    axis=1\n",
    ")\n",
    "\n",
    "# Display analysis for the first company\n",
    "print(\"\\nEnergy Cost Analysis for Company_1:\")\n",
    "display(df['Analysis'].iloc[0])"
   ]
  },
  {
   "cell_type": "markdown",
   "metadata": {},
   "source": [
    "**Explanation**\n",
    "- **`analyze_energy_costs(classified_expenses, service_costs, production_costs)`**: This function (from `scripts/analysis.py`) does the following:\n",
    "  1. Sums all expenses classified as \"Energy\" to get `Energy_Costs`.\n",
    "  2. Calculates `Energy_to_Service_Ratio` = `Energy_Costs / Service_Costs`.\n",
    "  3. Calculates `Energy_to_Production_Ratio` = `Energy_Costs / Total_Production_Costs`.\n",
    "- **Output**: A dictionary with analysis results. Example:\n",
    "  ```\n",
    "  {'Energy_Costs': 50000, 'Energy_to_Service_Ratio': 0.1667, 'Energy_to_Production_Ratio': 0.05}\n",
    "  ```"
   ]
  },
  {
   "cell_type": "markdown",
   "metadata": {},
   "source": [
    "## Step 5: Visualize Sector Trends\n",
    "Finally, we aggregate the energy cost ratios by sector and create bar charts to visualize trends."
   ]
  },
  {
   "cell_type": "code",
   "execution_count": null,
   "metadata": {},
   "outputs": [],
   "source": [
    "from analysis import plot_sector_analysis\n",
    "\n",
    "# Generate and display the plots\n",
    "plot_sector_analysis(df)"
   ]
  },
  {
   "cell_type": "markdown",
   "metadata": {},
   "source": [
    "**Explanation**\n",
    "- **`plot_sector_analysis(df)`**: This function (from `scripts/analysis.py`) performs the following:\n",
    "  1. Groups the DataFrame by `Sector_Code`.\n",
    "  2. Calculates the mean `Energy_to_Service_Ratio` and `Energy_to_Production_Ratio` for each sector.\n",
    "  3. Creates two bar charts:\n",
    "     - **Chart 1**: Average energy costs as a percentage of service costs by sector.\n",
    "     - **Chart 2**: Average energy costs as a percentage of production costs by sector.\n",
    "- **Output**: Visualizations saved to `outputs/sector_energy_analysis.png`. Example plots might show:\n",
    "  - Sector A: 16% of service costs, 5% of production costs.\n",
    "  - Sector B: 20% of service costs, 8% of production costs."
   ]
  },
  {
   "cell_type": "markdown",
   "metadata": {},
   "source": [
    "## Conclusion\n",
    "This notebook demonstrates how to:\n",
    "- **Extract structured data** from unstructured HTML financial documents.\n",
    "- **Apply NLP** for zero-shot classification of expenses.\n",
    "- **Perform financial analysis** to understand energy cost impacts.\n",
    "- **Visualize insights** across sectors using bar charts.\n",
    "\n",
    "### Next Steps\n",
    "You can extend this project by:\n",
    "- Loading real data from the `data/` directory instead of synthetic data.\n",
    "- Fine-tuning the zero-shot classification model with domain-specific examples.\n",
    "- Adding interactive visualizations using tools like Streamlit or Plotly.\n",
    "\n",
    "Happy analyzing!"
   ]
  }
 ],
 "metadata": {
  "kernelspec": {
   "display_name": "Python 3",
   "language": "python",
   "name": "python3"
  },
  "language_info": {
   "codemirror_mode": {
    "name": "ipython",
    "version": 3
   },
   "file_extension": ".py",
   "mimetype": "text/x-python",
   "name": "python",
   "nbconvert_exporter": "python",
   "pygments_lexer": "ipython3",
   "version": "3.8.5"
  }
 },
 "nbformat": 4,
 "nbformat_minor": 4
}