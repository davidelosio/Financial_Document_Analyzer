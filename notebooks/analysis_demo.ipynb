{
 "cells": [
  {
   "cell_type": "markdown",
   "metadata": {},
   "source": [
    "# Financial Document Analyzer: Step-by-Step Demo\n",
    "\n",
    "This notebook walks you through the full workflow of the **Financial Document Analyzer**, a tool designed to extract, classify, and analyze expenses from financial documents (e.g., \"nota integrativa\"). The focus is on energy-related expenses and their impact on total service and production costs across different sectors.\n",
    "\n",
    "### Project Structure\n",
    "- **`scripts/`**: Contains modular Python scripts for data loading, HTML parsing, expense classification, frequency filtering, and analysis.\n",
    "- **`data/`**: Holds sample or synthetic financial data.\n",
    "- **`outputs/`**: Stores generated visualizations.\n",
    "\n",
    "### Notebook Overview\n",
    "1. **Load Data**: Start with synthetic or real financial data.\n",
    "2. **Extract Tables**: Parse HTML to extract expense descriptions and values.\n",
    "3. **Filter Low-Quality Cost Voices**: Use document frequency to retain only high-quality, standardized expense descriptions.\n",
    "4. **Filter Expenses Based on Frequency**: Refine the extracted expenses to include only frequent terms.\n",
    "5. **Classify Expenses**: Use zero-shot NLP with manually defined cost classes to categorize expenses.\n",
    "6. **Analyze Energy Costs**: Calculate energy expenses and their ratios to service and production costs.\n",
    "7. **Visualize Trends**: Generate sector-based visualizations.\n",
    "\n",
    "Let’s get started!"
   ]
  },
  {
   "cell_type": "markdown",
   "metadata": {},
   "source": [
    "## Step 1: Load Data\n",
    "We begin by loading financial data into a DataFrame. For this demo, we’ll generate synthetic data on the fly. In a real-world scenario, you can replace this with your own CSV file from the `data/` directory."
   ]
  },
  {
   "cell_type": "code",
   "execution_count": 1,
   "metadata": {},
   "outputs": [
    {
     "name": "stdout",
     "output_type": "stream",
     "text": [
      "Sample DataFrame:\n"
     ]
    },
    {
     "data": {
      "text/html": [
       "<div>\n",
       "<style scoped>\n",
       "    .dataframe tbody tr th:only-of-type {\n",
       "        vertical-align: middle;\n",
       "    }\n",
       "\n",
       "    .dataframe tbody tr th {\n",
       "        vertical-align: top;\n",
       "    }\n",
       "\n",
       "    .dataframe thead th {\n",
       "        text-align: right;\n",
       "    }\n",
       "</style>\n",
       "<table border=\"1\" class=\"dataframe\">\n",
       "  <thead>\n",
       "    <tr style=\"text-align: right;\">\n",
       "      <th></th>\n",
       "      <th>Company_ID</th>\n",
       "      <th>Sector_Code</th>\n",
       "      <th>HTML</th>\n",
       "      <th>Total_Production_Costs</th>\n",
       "      <th>Service_Costs</th>\n",
       "    </tr>\n",
       "  </thead>\n",
       "  <tbody>\n",
       "    <tr>\n",
       "      <th>0</th>\n",
       "      <td>Company_1</td>\n",
       "      <td>Construction</td>\n",
       "      <td>&lt;table&gt;&lt;tr&gt;&lt;td&gt;Raw Materials&lt;/td&gt;&lt;td&gt;27339&lt;/td...</td>\n",
       "      <td>3767180</td>\n",
       "      <td>528756</td>\n",
       "    </tr>\n",
       "    <tr>\n",
       "      <th>1</th>\n",
       "      <td>Company_2</td>\n",
       "      <td>Services</td>\n",
       "      <td>&lt;table&gt;&lt;tr&gt;&lt;td&gt;Insurance Costs&lt;/td&gt;&lt;td&gt;7350&lt;/t...</td>\n",
       "      <td>3546146</td>\n",
       "      <td>890586</td>\n",
       "    </tr>\n",
       "    <tr>\n",
       "      <th>2</th>\n",
       "      <td>Company_3</td>\n",
       "      <td>Manufacturing</td>\n",
       "      <td>&lt;table&gt;&lt;tr&gt;&lt;td&gt;Legal Services&lt;/td&gt;&lt;td&gt;6136&lt;/td...</td>\n",
       "      <td>501369</td>\n",
       "      <td>527011</td>\n",
       "    </tr>\n",
       "    <tr>\n",
       "      <th>3</th>\n",
       "      <td>Company_4</td>\n",
       "      <td>Manufacturing</td>\n",
       "      <td>&lt;table&gt;&lt;tr&gt;&lt;td&gt;Training Costs&lt;/td&gt;&lt;td&gt;3633&lt;/td...</td>\n",
       "      <td>1170120</td>\n",
       "      <td>317248</td>\n",
       "    </tr>\n",
       "    <tr>\n",
       "      <th>4</th>\n",
       "      <td>Company_5</td>\n",
       "      <td>Retail</td>\n",
       "      <td>&lt;table&gt;&lt;tr&gt;&lt;td&gt;Production Supplies&lt;/td&gt;&lt;td&gt;267...</td>\n",
       "      <td>1416252</td>\n",
       "      <td>733727</td>\n",
       "    </tr>\n",
       "  </tbody>\n",
       "</table>\n",
       "</div>"
      ],
      "text/plain": [
       "  Company_ID    Sector_Code  \\\n",
       "0  Company_1   Construction   \n",
       "1  Company_2       Services   \n",
       "2  Company_3  Manufacturing   \n",
       "3  Company_4  Manufacturing   \n",
       "4  Company_5         Retail   \n",
       "\n",
       "                                                HTML  Total_Production_Costs  \\\n",
       "0  <table><tr><td>Raw Materials</td><td>27339</td...                 3767180   \n",
       "1  <table><tr><td>Insurance Costs</td><td>7350</t...                 3546146   \n",
       "2  <table><tr><td>Legal Services</td><td>6136</td...                  501369   \n",
       "3  <table><tr><td>Training Costs</td><td>3633</td...                 1170120   \n",
       "4  <table><tr><td>Production Supplies</td><td>267...                 1416252   \n",
       "\n",
       "   Service_Costs  \n",
       "0         528756  \n",
       "1         890586  \n",
       "2         527011  \n",
       "3         317248  \n",
       "4         733727  "
      ]
     },
     "metadata": {},
     "output_type": "display_data"
    }
   ],
   "source": [
    "import sys\n",
    "sys.path.append('../scripts')  # Add scripts directory to path\n",
    "\n",
    "from data_loader import load_data\n",
    "\n",
    "# Load synthetic data (or specify a file path to load real data)\n",
    "df = load_data()\n",
    "\n",
    "# Display the first few rows\n",
    "print(\"Sample DataFrame:\")\n",
    "display(df.head())"
   ]
  },
  {
   "cell_type": "markdown",
   "metadata": {},
   "source": [
    "**Explanation**\n",
    "- **`load_data()`**: This function (from `scripts/data_loader.py`) generates synthetic data with columns like `Company_ID`, `Sector_Code`, `HTML` (containing expense tables), `Total_Production_Costs`, and `Service_Costs`.\n",
    "- **Output**: A pandas DataFrame with sample financial data for multiple companies."
   ]
  },
  {
   "cell_type": "markdown",
   "metadata": {},
   "source": [
    "## Step 2: Extract Tables from HTML\n",
    "Next, we parse the HTML content in the `HTML` column to extract expense descriptions and their corresponding values."
   ]
  },
  {
   "cell_type": "code",
   "execution_count": 2,
   "metadata": {},
   "outputs": [
    {
     "name": "stdout",
     "output_type": "stream",
     "text": [
      "\n",
      "Extracted Expenses for Company_1:\n"
     ]
    },
    {
     "data": {
      "text/plain": [
       "[('Raw Materials', 27339.0),\n",
       " ('Accounting Services', 10177.0),\n",
       " ('Inventory Purchases', 34070.0),\n",
       " ('Travel Expenses', 2883.0),\n",
       " ('IT Support', 28625.0),\n",
       " ('IT Support', 7869.0),\n",
       " ('Raw Materials', 24774.0),\n",
       " ('Accounting Services', 28409.0),\n",
       " ('Raw Materials', 72146.0),\n",
       " ('Gas Expenses', 5866.0)]"
      ]
     },
     "metadata": {},
     "output_type": "display_data"
    }
   ],
   "source": [
    "from html_parser import extract_tables\n",
    "\n",
    "# Extract expenses from the HTML column\n",
    "df['Expenses'] = df['HTML'].apply(extract_tables)\n",
    "\n",
    "# Display extracted expenses for the first company\n",
    "print(\"\\nExtracted Expenses for Company_1:\")\n",
    "display(df['Expenses'].iloc[0])"
   ]
  },
  {
   "cell_type": "markdown",
   "metadata": {},
   "source": [
    "**Explanation**\n",
    "- **`extract_tables(html)`**: This function (from `scripts/html_parser.py`) uses BeautifulSoup to parse HTML `<table>` elements, extracting rows (`<tr>`) and cells (`<td>`) into a list of tuples: `(description, value)`.\n",
    "- **Output**: For each company, a list of expense items."
   ]
  },
  {
   "cell_type": "markdown",
   "metadata": {},
   "source": [
    "## Step 3: Filter Low-Quality Cost Voices Using Document Frequency\n",
    "The extraction method can include irrelevant or low-quality descriptions. To address this, we apply an unsupervised filtering step to retain only high-quality, standardized expense descriptions (\"cost voices\") that appear frequently across companies.\n",
    "\n",
    "**Approach**: We calculate the **document frequency** of each description (i.e., the number of companies that mention it) and keep only those that appear in at least a certain percentage of documents (e.g., 10%). This ensures we focus on common, standardized terms while discarding noise."
   ]
  },
  {
   "cell_type": "code",
   "execution_count": 3,
   "metadata": {},
   "outputs": [
    {
     "data": {
      "text/plain": [
       "['Inventory Purchases',\n",
       " 'IT Support',\n",
       " 'Raw Materials',\n",
       " 'Accounting Services',\n",
       " 'Travel Expenses',\n",
       " 'Gas Expenses',\n",
       " 'Insurance Costs',\n",
       " 'Electricity Costs',\n",
       " 'Power Supply',\n",
       " 'Consulting Fees',\n",
       " 'Energy Consumption',\n",
       " 'Miscellaneous Expenses',\n",
       " 'Maintenance Services',\n",
       " 'Legal Services',\n",
       " 'Training Costs',\n",
       " 'Construction Materials',\n",
       " 'Production Supplies',\n",
       " 'Heating Expenses',\n",
       " 'Electric Utilities',\n",
       " 'Packaging Materials',\n",
       " 'Marketing Expenses',\n",
       " 'Office Supplies',\n",
       " 'Fuel Costs']"
      ]
     },
     "execution_count": 3,
     "metadata": {},
     "output_type": "execute_result"
    }
   ],
   "source": [
    "from frequency_filter import calculate_document_frequency, get_frequent_terms\n",
    "\n",
    "# Step 3.1: Extract descriptions for frequency analysis\n",
    "df['Descriptions'] = df['Expenses'].apply(lambda exps: [desc for desc, _ in exps])\n",
    "\n",
    "# Step 3.2: Calculate document frequency for each description\n",
    "term_df, total_documents = calculate_document_frequency(df)\n",
    "\n",
    "# Step 3.3: Get frequent terms (descriptions that appear in at least 10% of documents)\n",
    "frequent_terms = get_frequent_terms(term_df, total_documents, min_freq=0.1)\n",
    "\n",
    "frequent_terms"
   ]
  },
  {
   "cell_type": "markdown",
   "metadata": {},
   "source": [
    "**Explanation**\n",
    "- **Extracting Descriptions**: After extracting expenses, we isolate the descriptions to prepare them for frequency analysis. This step aligns with the goal of identifying recurring cost voices across documents.\n",
    "- **Document Frequency**: The number of companies (documents) in which each expense description appears is calculated to assess its commonality.\n",
    "- **Filtering**: We retain only descriptions that appear in at least 10% of the companies, ensuring they are standardized and relevant, while filtering out less common or noisy terms.\n",
    "- **Output**: A list of frequent, high-quality expense descriptions."
   ]
  },
  {
   "cell_type": "markdown",
   "metadata": {},
   "source": [
    "## Step 4: Knowledge Engineering\n",
    "We now have a list of cost voices that have (relatively) high frequency and are also quite clean. We can manually inspect these and come up with our own lexicon of cost voice classes.\n",
    "\n",
    "Normally, you would have somebody with some domain knowledge define these classes for you. In this case i'll use just my common sense and sets a list of categories after going through the list showed above."
   ]
  },
  {
   "cell_type": "code",
   "execution_count": 4,
   "metadata": {},
   "outputs": [
    {
     "name": "stderr",
     "output_type": "stream",
     "text": [
      "Device set to use mps:0\n"
     ]
    }
   ],
   "source": [
    "from expense_classifier import classify_expense\n",
    "\n",
    "candidate_labels = [\"Energy\", \"Services\", \"Materials\", \"Other\"]"
   ]
  },
  {
   "cell_type": "markdown",
   "metadata": {},
   "source": [
    "## Step 5: Classify Expenses Using NLP and Manual Cost Classes\n",
    "We use zero-shot classification to categorize each filtered expense into predefined cost classes. These classes are manually defined based on domain knowledge to ensure meaningful categorization."
   ]
  },
  {
   "cell_type": "code",
   "execution_count": 15,
   "metadata": {},
   "outputs": [
    {
     "name": "stdout",
     "output_type": "stream",
     "text": [
      "\n",
      "Comparison for Company_1:\n"
     ]
    },
    {
     "data": {
      "text/html": [
       "<div>\n",
       "<style scoped>\n",
       "    .dataframe tbody tr th:only-of-type {\n",
       "        vertical-align: middle;\n",
       "    }\n",
       "\n",
       "    .dataframe tbody tr th {\n",
       "        vertical-align: top;\n",
       "    }\n",
       "\n",
       "    .dataframe thead th {\n",
       "        text-align: right;\n",
       "    }\n",
       "</style>\n",
       "<table border=\"1\" class=\"dataframe\">\n",
       "  <thead>\n",
       "    <tr style=\"text-align: right;\">\n",
       "      <th></th>\n",
       "      <th>Original Description</th>\n",
       "      <th>Classified Label</th>\n",
       "    </tr>\n",
       "  </thead>\n",
       "  <tbody>\n",
       "    <tr>\n",
       "      <th>0</th>\n",
       "      <td>Raw Materials</td>\n",
       "      <td>Materials</td>\n",
       "    </tr>\n",
       "    <tr>\n",
       "      <th>1</th>\n",
       "      <td>Accounting Services</td>\n",
       "      <td>Services</td>\n",
       "    </tr>\n",
       "    <tr>\n",
       "      <th>2</th>\n",
       "      <td>Inventory Purchases</td>\n",
       "      <td>Other</td>\n",
       "    </tr>\n",
       "    <tr>\n",
       "      <th>3</th>\n",
       "      <td>Travel Expenses</td>\n",
       "      <td>Other</td>\n",
       "    </tr>\n",
       "    <tr>\n",
       "      <th>4</th>\n",
       "      <td>IT Support</td>\n",
       "      <td>Services</td>\n",
       "    </tr>\n",
       "    <tr>\n",
       "      <th>5</th>\n",
       "      <td>IT Support</td>\n",
       "      <td>Services</td>\n",
       "    </tr>\n",
       "    <tr>\n",
       "      <th>6</th>\n",
       "      <td>Raw Materials</td>\n",
       "      <td>Materials</td>\n",
       "    </tr>\n",
       "    <tr>\n",
       "      <th>7</th>\n",
       "      <td>Accounting Services</td>\n",
       "      <td>Services</td>\n",
       "    </tr>\n",
       "    <tr>\n",
       "      <th>8</th>\n",
       "      <td>Raw Materials</td>\n",
       "      <td>Materials</td>\n",
       "    </tr>\n",
       "    <tr>\n",
       "      <th>9</th>\n",
       "      <td>Gas Expenses</td>\n",
       "      <td>Energy</td>\n",
       "    </tr>\n",
       "  </tbody>\n",
       "</table>\n",
       "</div>"
      ],
      "text/plain": [
       "  Original Description Classified Label\n",
       "0        Raw Materials        Materials\n",
       "1  Accounting Services         Services\n",
       "2  Inventory Purchases            Other\n",
       "3      Travel Expenses            Other\n",
       "4           IT Support         Services\n",
       "5           IT Support         Services\n",
       "6        Raw Materials        Materials\n",
       "7  Accounting Services         Services\n",
       "8        Raw Materials        Materials\n",
       "9         Gas Expenses           Energy"
      ]
     },
     "metadata": {},
     "output_type": "display_data"
    }
   ],
   "source": [
    "from expense_classifier import classify_expense\n",
    "import pandas as pd\n",
    "\n",
    "# Classify each filtered expense using the manual cost classes\n",
    "df['Classified_Expenses'] = df['Expenses'].apply(\n",
    "    lambda exps: [(classify_expense(desc, candidate_labels=candidate_labels), value) for desc, value in exps]\n",
    ")\n",
    "\n",
    "# Display classified expenses for the first company and compare them against the original description\n",
    "expenses = df['Expenses'].iloc[0]\n",
    "classified = df['Classified_Expenses'].iloc[0]\n",
    "\n",
    "# Create a comparison table\n",
    "comparison_df = pd.DataFrame(\n",
    "    [(desc, label) for (desc, _), (label, _) in zip(expenses, classified)],\n",
    "    columns=['Original Description', 'Classified Label']\n",
    ")\n",
    "\n",
    "# Display the table\n",
    "print(\"\\nComparison for Company_1:\")\n",
    "display(comparison_df)"
   ]
  },
  {
   "cell_type": "markdown",
   "metadata": {},
   "source": [
    "**Explanation**\n",
    "- **`classify_expense(desc, candidate_labels)`**: This function (from `scripts/expense_classifier.py`) uses a pre-trained zero-shot classification model to predict the most likely category from the manually defined `cost_classes`.\n",
    "- **Output**: A list of tuples with classified categories and values, leveraging domain-specific categories for accurate analysis."
   ]
  },
  {
   "cell_type": "markdown",
   "metadata": {},
   "source": [
    "## Step 6: Analyze Energy-Related Expenses\n",
    "Now, we calculate the total energy costs for each company and compute their ratios to service and production costs."
   ]
  },
  {
   "cell_type": "code",
   "execution_count": 6,
   "metadata": {},
   "outputs": [
    {
     "name": "stdout",
     "output_type": "stream",
     "text": [
      "\n",
      "Energy Cost Analysis for Company_1:\n"
     ]
    },
    {
     "data": {
      "text/plain": [
       "0    {'Energy_Costs': 5866.0, 'Energy_to_Service_Ra...\n",
       "1    {'Energy_Costs': 113689.0, 'Energy_to_Service_...\n",
       "2    {'Energy_Costs': 31402.0, 'Energy_to_Service_R...\n",
       "3    {'Energy_Costs': 0, 'Energy_to_Service_Ratio':...\n",
       "4    {'Energy_Costs': 110346.0, 'Energy_to_Service_...\n",
       "5    {'Energy_Costs': 41496.0, 'Energy_to_Service_R...\n",
       "6    {'Energy_Costs': 63764.0, 'Energy_to_Service_R...\n",
       "7    {'Energy_Costs': 76030.0, 'Energy_to_Service_R...\n",
       "8    {'Energy_Costs': 48841.0, 'Energy_to_Service_R...\n",
       "9    {'Energy_Costs': 123379.0, 'Energy_to_Service_...\n",
       "Name: Analysis, dtype: object"
      ]
     },
     "metadata": {},
     "output_type": "display_data"
    }
   ],
   "source": [
    "from analysis import analyze_energy_costs\n",
    "\n",
    "# Perform analysis for each company\n",
    "df['Analysis'] = df.apply(\n",
    "    lambda row: analyze_energy_costs(row['Classified_Expenses'], \n",
    "                                     row['Service_Costs'], \n",
    "                                     row['Total_Production_Costs']), \n",
    "    axis=1\n",
    ")\n",
    "\n",
    "# Display analysis for the first company\n",
    "print(\"\\nEnergy Cost Analysis for Company_1:\")\n",
    "display(df['Analysis'])"
   ]
  },
  {
   "cell_type": "markdown",
   "metadata": {},
   "source": [
    "**Explanation**\n",
    "- **`analyze_energy_costs(classified_expenses, service_costs, production_costs)`**: This function (from `scripts/analysis.py`) does the following:\n",
    "  1. Sums all expenses classified as \"energia\" to get `Energy_Costs`.\n",
    "  2. Calculates `Energy_to_Service_Ratio` = `Energy_Costs / Service_Costs`.\n",
    "  3. Calculates `Energy_to_Production_Ratio` = `Energy_Costs / Total_Production_Costs`.\n",
    "- **Output**: A dictionary with analysis results."
   ]
  },
  {
   "cell_type": "markdown",
   "metadata": {},
   "source": [
    "## Step 7: Visualize Sector Trends\n",
    "Finally, we aggregate the energy cost ratios by sector and create bar charts to visualize trends."
   ]
  },
  {
   "cell_type": "code",
   "execution_count": 7,
   "metadata": {},
   "outputs": [
    {
     "data": {
      "image/png": "[encoded data removed]",
      "text/plain": [
       "<Figure size 1200x600 with 2 Axes>"
      ]
     },
     "metadata": {},
     "output_type": "display_data"
    }
   ],
   "source": [
    "from analysis import plot_sector_analysis\n",
    "\n",
    "# Generate and display the plots\n",
    "plot_sector_analysis(df)"
   ]
  },
  {
   "cell_type": "markdown",
   "metadata": {},
   "source": [
    "**Explanation**\n",
    "- **`plot_sector_analysis(df)`**: This function (from `scripts/analysis.py`) performs the following:\n",
    "  1. Groups the DataFrame by `Sector_Code`.\n",
    "  2. Calculates the mean `Energy_to_Service_Ratio` and `Energy_to_Production_Ratio` for each sector.\n",
    "  3. Creates two bar charts:\n",
    "     - **Chart 1**: Average energy costs as a percentage of service costs by sector.\n",
    "     - **Chart 2**: Average energy costs as a percentage of production costs by sector.\n",
    "- **Output**: Visualizations saved to `outputs/sector_energy_analysis.png`."
   ]
  },
  {
   "cell_type": "markdown",
   "metadata": {},
   "source": [
    "## Conclusion\n",
    "This notebook demonstrates how to:\n",
    "- **Extract structured data** from unstructured HTML financial documents.\n",
    "- **Filter low-quality data** using document frequency to ensure reliability.\n",
    "- **Apply NLP** for zero-shot classification with domain-specific cost classes.\n",
    "- **Perform financial analysis** to understand energy cost impacts.\n",
    "- **Visualize insights** across sectors using bar charts.\n",
    "\n",
    "### Next Steps\n",
    "You can extend this project by:\n",
    "- Loading real data from the `data/` directory instead of synthetic data.\n",
    "- Fine-tuning the zero-shot classification model with domain-specific examples.\n",
    "- Adding interactive visualizations using tools like Streamlit or Plotly.\n",
    "- Testing out newer models\n",
    "\n",
    "Happy analyzing!"
   ]
  }
 ],
 "metadata": {
  "kernelspec": {
   "display_name": "Python 3 (ipykernel)",
   "language": "python",
   "name": "python3"
  },
  "language_info": {
   "codemirror_mode": {
    "name": "ipython",
    "version": 3
   },
   "file_extension": ".py",
   "mimetype": "text/x-python",
   "name": "python",
   "nbconvert_exporter": "python",
   "pygments_lexer": "ipython3",
   "version": "3.10.13"
  }
 },
 "nbformat": 4,
 "nbformat_minor": 4
}
